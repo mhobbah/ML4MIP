{
 "cells": [
  {
   "cell_type": "markdown",
   "id": "5a1999d8-b087-43c5-bd23-bb2d1b63fe60",
   "metadata": {},
   "source": [
    "# Processing of the Ostia Detector Model"
   ]
  },
  {
   "cell_type": "code",
   "execution_count": 1,
   "id": "235d7b13-6d08-4a22-b110-9c6bb06d52c2",
   "metadata": {
    "tags": []
   },
   "outputs": [],
   "source": [
    "import os\n",
    "import shutil\n",
    "import numpy as np\n",
    "import torch\n",
    "from utils import *\n",
    "from OstiaDetector import OstiaDetector\n",
    "from skeleton_to_digraph import ostia_proximity_map, retrieve_ostia_voxel\n",
    "import matplotlib.pyplot as plt\n",
    "import warnings\n",
    "warnings.filterwarnings(\"ignore\")"
   ]
  },
  {
   "cell_type": "code",
   "execution_count": 2,
   "id": "65f46888-e48a-4532-bde9-074c4cf33cd1",
   "metadata": {
    "tags": []
   },
   "outputs": [
    {
     "name": "stdout",
     "output_type": "stream",
     "text": [
      "CUDA Available: True\n",
      "CUDA Device Count: 1\n"
     ]
    }
   ],
   "source": [
    "print(f\"CUDA Available: {torch.cuda.is_available()}\")\n",
    "print(f\"CUDA Device Count: {torch.cuda.device_count()}\")\n",
    "device = torch.device(\"cuda\" if torch.cuda.is_available() else \"cpu\")"
   ]
  },
  {
   "cell_type": "markdown",
   "id": "d4896b35-9010-40f3-9f3b-0ef4ca351bcc",
   "metadata": {},
   "source": [
    "## Load the data"
   ]
  },
  {
   "cell_type": "code",
   "execution_count": 3,
   "id": "82ebe920-0cab-4f85-99da-3d2c96a1045f",
   "metadata": {
    "tags": []
   },
   "outputs": [],
   "source": [
    "# Define the directories containing the files\n",
    "image_directory = \"/data/training_data/\"\n",
    "label_directory = \"/data/training_data/\"\n",
    "graph_directory = \"/data/training_data/\"\n",
    "\n",
    "# List all the NIfTI files in the directory\n",
    "image_files = [os.path.join(image_directory, f) for f in os.listdir(image_directory) if f.endswith('img.nii.gz')]\n",
    "label_files = [os.path.join(label_directory, f) for f in os.listdir(image_directory) if f.endswith('label.nii.gz')]\n",
    "graph_files = [os.path.join(graph_directory, f) for f in os.listdir(image_directory) if f.endswith('graph.json')]"
   ]
  },
  {
   "cell_type": "code",
   "execution_count": 4,
   "id": "e025301d-d484-4b35-bf3e-e527a1274ea7",
   "metadata": {
    "tags": []
   },
   "outputs": [],
   "source": [
    "# Create a list of dictionnaries with the data, exclude samples with alleged incorrect number of nodes\n",
    "exclude = [\"/data/training_data/102624\", \"/data/training_data/27badc\", \"/data/training_data/0604cd\", \"/data/training_data/26d228\", \n",
    "           \"/data/training_data/04222e\", \"/data/training_data/22cdd3\", \"/data/training_data/29db0c\", \"/data/training_data/0b9189\", \n",
    "           \"/data/training_data/1a42d5\", \"/data/training_data/1b3c33\", \"/data/training_data/2f74d6\", \"/data/training_data/108c99\", \n",
    "           \"/data/training_data/0cce0b\", \"/data/training_data/064c3e\", \"/data/training_data/234666\", \"/data/training_data/28955b\", \n",
    "           \"/data/training_data/0a5b04\", \"/data/training_data/107165\", \"/data/training_data/23c591\", \"/data/training_data/0b06d2\",\n",
    "           \"/data/training_data/089ee1\", \"/data/training_data/18beb4\", \"/data/training_data/1f594d\"]\n",
    "data = []\n",
    "\n",
    "for i in image_files:\n",
    "    if i.split('.')[0] in exclude:\n",
    "        continue\n",
    "    for l in label_files:\n",
    "        for g in graph_files:\n",
    "            if i.split(image_directory)[1][:6] == l.split(label_directory)[1][:6] == g.split(graph_directory)[1][:6]: # identify the sample\n",
    "                data += [{'image': i, 'label': l, 'graph': g}]\n",
    "                break"
   ]
  },
  {
   "cell_type": "code",
   "execution_count": 5,
   "id": "d9003c35-2079-45de-8c5c-0ec1c48d9e43",
   "metadata": {
    "tags": []
   },
   "outputs": [],
   "source": [
    "training, hold_out = data[:-15], data[-15:]"
   ]
  },
  {
   "cell_type": "markdown",
   "id": "c1773c96-1983-4868-812c-aa438c8bc097",
   "metadata": {
    "tags": []
   },
   "source": [
    "## Model selection"
   ]
  },
  {
   "cell_type": "markdown",
   "id": "0c30cd21-87ca-4ff4-8d4a-3d5d2df4293b",
   "metadata": {},
   "source": [
    "We now have to select the best model out of all the saved models (one per epoch). We have validation losses (on the hold-out set) but those values are not easily interpretable in the scope of the Ostia Detector training. Indeed, the validation losses represent a global difference between the proximity map generated and the ground-truth locations of the ostia but we don't know the distribution of the values in the difference. Thus, we choose the model by comparing the sum of the distances between the predicted locations of the ostia and their ground-truth locations on the hold-out set. The final model is the model that gives the minimal sum."
   ]
  },
  {
   "cell_type": "code",
   "execution_count": 6,
   "id": "ac6497a7-d37c-421d-b5db-93307b9decc0",
   "metadata": {},
   "outputs": [
    {
     "name": "stdout",
     "output_type": "stream",
     "text": [
      "The best model is the one from the 20th epoch\n",
      "The best model is the one from the 20th epoch\n",
      "The best model is the one from the 20th epoch\n",
      "The best model is the one from the 20th epoch\n",
      "The best model is the one from the 16th epoch\n",
      "The selected model is the one from the 16th epoch\n"
     ]
    }
   ],
   "source": [
    "model_id = \"20250330_212645\" # timestamp that identifies the model\n",
    "\n",
    "min_sum_distances = 1000000\n",
    "epoch_selected = 20 # choose last epoch by default\n",
    "\n",
    "for epoch_number in range(20, 15, -1): # analyze model from the last epoch to the 16th one\n",
    "    model_path = \"./models/ostia_model_{}_{}\".format(model_id, epoch_number)\n",
    "    \n",
    "    # Load the model for root nodes detection\n",
    "    ostia_model = OstiaDetector()\n",
    "    ostia_model.load_state_dict(torch.load(model_path))\n",
    "    ostia_model.eval()\n",
    "    \n",
    "    # Select the model giving the minimal distance to the ground-truth ostia points\n",
    "    sum_distances = 0\n",
    "    for sample in hold_out:        \n",
    "        _, ostia = load_seeds(sample['image'], sample['graph'])\n",
    "        proximity_map, affine = ostia_proximity_map(sample['image'], ostia_model, device)\n",
    "        \n",
    "        ostia_pred_voxel = retrieve_ostia_voxel(proximity_map, affine)\n",
    "        \n",
    "        distances = np.min([np.linalg.norm(ostia_pred_voxel - ostia, axis=1), np.linalg.norm(ostia_pred_voxel - ostia[[1, 0]], axis=1)], axis=0) # we need the minimum value between those two norms because the first term of the prediction can be aligned with the second of the ground truth and vice versa \n",
    "        sum_distances += np.sum(distances)                                                                                                       \n",
    "        \n",
    "    if sum_distances < min_sum_distances:\n",
    "        min_sum_distances = sum_distances\n",
    "        epoch_selected = epoch_number\n",
    "        \n",
    "    print(\"The best model is the one from the {}th epoch\".format(epoch_selected))\n",
    "\n",
    "print(\"The selected model is the one from the {}th epoch\".format(epoch_selected))"
   ]
  },
  {
   "cell_type": "code",
   "execution_count": 7,
   "id": "8c252274-5d02-4e23-8b16-7144fc34afe7",
   "metadata": {},
   "outputs": [
    {
     "data": {
      "text/plain": [
       "'./ostia_model_trained'"
      ]
     },
     "execution_count": 7,
     "metadata": {},
     "output_type": "execute_result"
    }
   ],
   "source": [
    "# Rename and place the selected model in the same folder\n",
    "shutil.copy('./models/ostia_model_{}_{}'.format(model_id, epoch_selected), \"./ostia_model_trained\")"
   ]
  },
  {
   "cell_type": "markdown",
   "id": "d4307512-c061-4a6c-8b48-6c29bdc90131",
   "metadata": {},
   "source": [
    "## Locate the coronary ostia (example with one sample)"
   ]
  },
  {
   "cell_type": "code",
   "execution_count": 8,
   "id": "223d4fa2-61d5-4e9f-bf35-a4b5d76891b0",
   "metadata": {
    "tags": []
   },
   "outputs": [],
   "source": [
    "model_path = \"./ostia_model_trained\"\n",
    "sample = hold_out[0]"
   ]
  },
  {
   "cell_type": "code",
   "execution_count": 9,
   "id": "91fa6674-62f2-4a8d-8a40-1faaa25f22a3",
   "metadata": {
    "tags": []
   },
   "outputs": [],
   "source": [
    "image, ostia = load_seeds(sample['image'], sample['graph'])\n",
    "proximity_map, affine = ostia_proximity_map(sample['image'], ostia_model)\n",
    "ostia_pred_voxel = retrieve_ostia_voxel(proximity_map, affine)"
   ]
  },
  {
   "cell_type": "code",
   "execution_count": 10,
   "id": "6db816fc-e3aa-4e7d-bae1-4c25c9de2019",
   "metadata": {
    "tags": []
   },
   "outputs": [
    {
     "data": {
      "text/plain": [
       "<matplotlib.image.AxesImage at 0x7fa9b4315db0>"
      ]
     },
     "execution_count": 10,
     "metadata": {},
     "output_type": "execute_result"
    },
    {
     "data": {
      "image/png": "[encoded data removed]",
      "text/plain": [
       "<Figure size 640x480 with 3 Axes>"
      ]
     },
     "metadata": {},
     "output_type": "display_data"
    }
   ],
   "source": [
    "_, axs = plt.subplots(1, 3, width_ratios=[1, 1, image.shape[0]/image.shape[2]], sharey='all')\n",
    "\n",
    "axs[0].scatter(ostia[:, 2], ostia[:, 1], c=\"y\", alpha=0.3)\n",
    "axs[0].scatter(ostia_pred_voxel[:, 2], ostia_pred_voxel[:, 1], c=\"r\", s=3)\n",
    "axs[0].imshow(np.max(proximity_map, axis=0), cmap=\"gray\")\n",
    "axs[1].scatter(ostia[:, 2], ostia[:, 0], c=\"y\", alpha=0.3)\n",
    "axs[1].scatter(ostia_pred_voxel[:, 2], ostia_pred_voxel[:, 0], c=\"r\", s=3)\n",
    "axs[1].imshow(np.max(proximity_map, axis=1), cmap=\"gray\")\n",
    "axs[2].scatter(ostia[:, 1], ostia[:, 0], c=\"y\", alpha=0.3)\n",
    "axs[2].scatter(ostia_pred_voxel[:, 1], ostia_pred_voxel[:, 0], c=\"r\", s=3)\n",
    "axs[2].imshow(np.max(proximity_map, axis=2), cmap=\"gray\")"
   ]
  },
  {
   "cell_type": "markdown",
   "id": "c4920ee1-4f33-43a8-acde-de81e2f1fa81",
   "metadata": {},
   "source": [
    "The red points are the predicted locations of the ostia, the yellow points are the ground-truth locations and the background is the proximity map. The maximum values of the proximity map are in white and even if there are a good amount of them far from the ostia, the prediction is still pretty accurate. Moreover, we can't see the white points on the ostia locations because of the visualizations of the prediction and the ground-truth."
   ]
  },
  {
   "cell_type": "code",
   "execution_count": null,
   "id": "0d6aa24f-69d3-4e78-99de-f627c30d3c22",
   "metadata": {},
   "outputs": [],
   "source": []
  }
 ],
 "metadata": {
  "kernelspec": {
   "display_name": "Exploration Tutorial",
   "language": "python",
   "name": "exploration-tutorial"
  },
  "language_info": {
   "codemirror_mode": {
    "name": "ipython",
    "version": 3
   },
   "file_extension": ".py",
   "mimetype": "text/x-python",
   "name": "python",
   "nbconvert_exporter": "python",
   "pygments_lexer": "ipython3",
   "version": "3.10.12"
  }
 },
 "nbformat": 4,
 "nbformat_minor": 5
}
